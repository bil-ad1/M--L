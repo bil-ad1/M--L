{
  "nbformat": 4,
  "nbformat_minor": 0,
  "metadata": {
    "colab": {
      "provenance": []
    },
    "kernelspec": {
      "name": "python3",
      "display_name": "Python 3"
    },
    "language_info": {
      "name": "python"
    }
  },
  "cells": [
    {
      "cell_type": "code",
      "execution_count": 1,
      "metadata": {
        "id": "DiHA7nh_qJKM"
      },
      "outputs": [],
      "source": [
        "import numpy as np\n",
        "import pandas as pd"
      ]
    },
    {
      "cell_type": "code",
      "source": [
        "emp_itr = pd.read_excel('/content/emp_attr.xlsx')"
      ],
      "metadata": {
        "id": "4SqMRwUUqW_y"
      },
      "execution_count": 5,
      "outputs": []
    },
    {
      "cell_type": "code",
      "source": [
        "em_it = emp_itr.dropna()"
      ],
      "metadata": {
        "id": "wi4DNHSKqcZR"
      },
      "execution_count": 6,
      "outputs": []
    },
    {
      "cell_type": "code",
      "source": [
        "emp_itr.shape"
      ],
      "metadata": {
        "colab": {
          "base_uri": "https://localhost:8080/"
        },
        "id": "8wczifMfqypI",
        "outputId": "1609d47e-e588-4f7a-85c9-22855e437636"
      },
      "execution_count": 8,
      "outputs": [
        {
          "output_type": "execute_result",
          "data": {
            "text/plain": [
              "(4410, 21)"
            ]
          },
          "metadata": {},
          "execution_count": 8
        }
      ]
    },
    {
      "cell_type": "code",
      "source": [
        "em_it.shape"
      ],
      "metadata": {
        "colab": {
          "base_uri": "https://localhost:8080/"
        },
        "id": "VJrMQRGtq4HF",
        "outputId": "e92ced67-9c21-4118-bdb7-ddf680931e00"
      },
      "execution_count": 9,
      "outputs": [
        {
          "output_type": "execute_result",
          "data": {
            "text/plain": [
              "(4300, 21)"
            ]
          },
          "metadata": {},
          "execution_count": 9
        }
      ]
    },
    {
      "cell_type": "code",
      "source": [
        "# em_it.columns"
      ],
      "metadata": {
        "id": "oCc9HpbZrSvp"
      },
      "execution_count": 16,
      "outputs": []
    },
    {
      "cell_type": "code",
      "source": [
        "X1 = em_it.drop(['EmployeeID','Attrition'],axis=1)"
      ],
      "metadata": {
        "id": "6xsUQC9pq87p"
      },
      "execution_count": 14,
      "outputs": []
    },
    {
      "cell_type": "code",
      "source": [
        "X1.columns"
      ],
      "metadata": {
        "colab": {
          "base_uri": "https://localhost:8080/"
        },
        "id": "F6C-c5EArceU",
        "outputId": "a2b83ea7-f600-4f86-8ab0-c30152600fa5"
      },
      "execution_count": 15,
      "outputs": [
        {
          "output_type": "execute_result",
          "data": {
            "text/plain": [
              "Index(['JobInvolvement', 'PerformanceRating', 'EnvironmentSatisfaction',\n",
              "       'JobSatisfaction', 'WorkLifeBalance', 'Age', 'Business_Travel',\n",
              "       'DistanceFromHome', 'Education', 'Gender', 'JobLevel', 'MaritalStatus',\n",
              "       'MonthlyIncome', 'NumCompaniesWorked', 'PercentSalaryHike',\n",
              "       'StandardHours', 'StockOptionLevel', 'TotalWorkingYears',\n",
              "       'YearsAtCompany'],\n",
              "      dtype='object')"
            ]
          },
          "metadata": {},
          "execution_count": 15
        }
      ]
    },
    {
      "cell_type": "code",
      "source": [
        "y1 = em_it['Attrition']"
      ],
      "metadata": {
        "id": "5CR0cw9zrrJn"
      },
      "execution_count": 17,
      "outputs": []
    },
    {
      "cell_type": "code",
      "source": [
        "from sklearn.tree import DecisionTreeClassifier"
      ],
      "metadata": {
        "id": "XhlSb2g_r7yj"
      },
      "execution_count": 18,
      "outputs": []
    },
    {
      "cell_type": "code",
      "source": [
        "from sklearn.model_selection import train_test_split\n",
        "from sklearn import metrics"
      ],
      "metadata": {
        "id": "iCvbKBNZsOji"
      },
      "execution_count": 19,
      "outputs": []
    },
    {
      "cell_type": "code",
      "source": [
        "X_train , X_test , y_train , y_test = train_test_split(X1, y1, test_size=0.2,random_state=0)"
      ],
      "metadata": {
        "id": "Nn2YC-tEsZ6f"
      },
      "execution_count": 21,
      "outputs": []
    },
    {
      "cell_type": "code",
      "source": [
        "clf = DecisionTreeClassifier()"
      ],
      "metadata": {
        "id": "uV1hldNlsu-V"
      },
      "execution_count": 22,
      "outputs": []
    },
    {
      "cell_type": "code",
      "source": [
        "clr = clf.fit(X_train,y_train)"
      ],
      "metadata": {
        "id": "p03-7NCGtOO8"
      },
      "execution_count": 23,
      "outputs": []
    },
    {
      "cell_type": "code",
      "source": [
        "y_prd = clr.predict(X_test)"
      ],
      "metadata": {
        "id": "4GYELEL4tacE"
      },
      "execution_count": 24,
      "outputs": []
    },
    {
      "cell_type": "code",
      "source": [
        "# print(y_prd)"
      ],
      "metadata": {
        "id": "jCgC5IYTtgPi"
      },
      "execution_count": 27,
      "outputs": []
    },
    {
      "cell_type": "code",
      "source": [
        "print(y_test)"
      ],
      "metadata": {
        "colab": {
          "base_uri": "https://localhost:8080/"
        },
        "id": "031Lt7ButlO9",
        "outputId": "ac52eeb7-a834-4ddf-cbc2-93fab0b61291"
      },
      "execution_count": 26,
      "outputs": [
        {
          "output_type": "stream",
          "name": "stdout",
          "text": [
            "2441    0\n",
            "2618    0\n",
            "2176    0\n",
            "3831    0\n",
            "224     1\n",
            "       ..\n",
            "776     0\n",
            "2843    0\n",
            "2579    0\n",
            "1811    0\n",
            "2828    0\n",
            "Name: Attrition, Length: 860, dtype: int64\n"
          ]
        }
      ]
    },
    {
      "cell_type": "code",
      "source": [
        "print('Accuracy:',metrics.accuracy_score(y_test,y_prd))"
      ],
      "metadata": {
        "colab": {
          "base_uri": "https://localhost:8080/"
        },
        "id": "slTLKsjWtooG",
        "outputId": "441f97fd-407b-47d6-b508-8b68f961a512"
      },
      "execution_count": 29,
      "outputs": [
        {
          "output_type": "stream",
          "name": "stdout",
          "text": [
            "Accuracy: 0.9802325581395349\n"
          ]
        }
      ]
    },
    {
      "cell_type": "code",
      "source": [
        "pred = clr.predict([[4,3,2,2,3,46,1,10,3,2,2,1,25368,2,9,8,2,5,2]])"
      ],
      "metadata": {
        "colab": {
          "base_uri": "https://localhost:8080/"
        },
        "id": "-qWZqEo2t6JH",
        "outputId": "c16a94e8-e7f6-41a1-9668-26d3a91c657d"
      },
      "execution_count": 30,
      "outputs": [
        {
          "output_type": "stream",
          "name": "stderr",
          "text": [
            "/usr/local/lib/python3.10/dist-packages/sklearn/base.py:439: UserWarning: X does not have valid feature names, but DecisionTreeClassifier was fitted with feature names\n",
            "  warnings.warn(\n"
          ]
        }
      ]
    },
    {
      "cell_type": "code",
      "source": [
        "print(pred)"
      ],
      "metadata": {
        "colab": {
          "base_uri": "https://localhost:8080/"
        },
        "id": "EGrPB_qmuJA2",
        "outputId": "0f163233-1775-4efe-e897-cb2d636be6ed"
      },
      "execution_count": 32,
      "outputs": [
        {
          "output_type": "stream",
          "name": "stdout",
          "text": [
            "[0]\n"
          ]
        }
      ]
    }
  ]
}